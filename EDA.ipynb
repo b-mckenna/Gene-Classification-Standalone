{
 "cells": [
  {
   "cell_type": "code",
   "execution_count": 1,
   "id": "81f51d80",
   "metadata": {},
   "outputs": [],
   "source": [
    "# https://www.kaggle.com/code/ltrahul/dna-classifier\n",
    "import pandas as pd"
   ]
  },
  {
   "cell_type": "code",
   "execution_count": 2,
   "id": "cc85c801",
   "metadata": {},
   "outputs": [],
   "source": [
    "human_data = pd.read_table('dna_sequence_dataset/human.txt')"
   ]
  },
  {
   "cell_type": "code",
   "execution_count": 3,
   "id": "cf53f667",
   "metadata": {},
   "outputs": [],
   "source": [
    "chimp = pd.read_table('dna_sequence_dataset/chimpanzee.txt')"
   ]
  },
  {
   "cell_type": "code",
   "execution_count": 4,
   "id": "08a12ce0",
   "metadata": {},
   "outputs": [],
   "source": [
    "dog = pd.read_table('dna_sequence_dataset/dog.txt')"
   ]
  },
  {
   "cell_type": "code",
   "execution_count": 5,
   "id": "8dc4ead2",
   "metadata": {},
   "outputs": [],
   "source": [
    "def getKmers(sequence, size=7):\n",
    "    return [sequence[x:x+size].lower() for x in range(len(sequence) - size + 1)]"
   ]
  },
  {
   "cell_type": "code",
   "execution_count": 6,
   "id": "f7e57123",
   "metadata": {},
   "outputs": [
    {
     "name": "stdout",
     "output_type": "stream",
     "text": [
      "CPU times: user 1.09 s, sys: 92.1 ms, total: 1.18 s\n",
      "Wall time: 1.18 s\n"
     ]
    },
    {
     "data": {
      "text/html": [
       "<div>\n",
       "<style scoped>\n",
       "    .dataframe tbody tr th:only-of-type {\n",
       "        vertical-align: middle;\n",
       "    }\n",
       "\n",
       "    .dataframe tbody tr th {\n",
       "        vertical-align: top;\n",
       "    }\n",
       "\n",
       "    .dataframe thead th {\n",
       "        text-align: right;\n",
       "    }\n",
       "</style>\n",
       "<table border=\"1\" class=\"dataframe\">\n",
       "  <thead>\n",
       "    <tr style=\"text-align: right;\">\n",
       "      <th></th>\n",
       "      <th>sequence</th>\n",
       "      <th>class</th>\n",
       "      <th>words</th>\n",
       "    </tr>\n",
       "  </thead>\n",
       "  <tbody>\n",
       "    <tr>\n",
       "      <th>0</th>\n",
       "      <td>ATGCCCCAACTAAATACTACCGTATGGCCCACCATAATTACCCCCA...</td>\n",
       "      <td>4</td>\n",
       "      <td>[atgcccc, tgcccca, gccccaa, ccccaac, cccaact, ...</td>\n",
       "    </tr>\n",
       "    <tr>\n",
       "      <th>1</th>\n",
       "      <td>ATGAACGAAAATCTGTTCGCTTCATTCATTGCCCCCACAATCCTAG...</td>\n",
       "      <td>4</td>\n",
       "      <td>[atgaacg, tgaacga, gaacgaa, aacgaaa, acgaaaa, ...</td>\n",
       "    </tr>\n",
       "    <tr>\n",
       "      <th>2</th>\n",
       "      <td>ATGTGTGGCATTTGGGCGCTGTTTGGCAGTGATGATTGCCTTTCTG...</td>\n",
       "      <td>3</td>\n",
       "      <td>[atgtgtg, tgtgtgg, gtgtggc, tgtggca, gtggcat, ...</td>\n",
       "    </tr>\n",
       "    <tr>\n",
       "      <th>3</th>\n",
       "      <td>ATGTGTGGCATTTGGGCGCTGTTTGGCAGTGATGATTGCCTTTCTG...</td>\n",
       "      <td>3</td>\n",
       "      <td>[atgtgtg, tgtgtgg, gtgtggc, tgtggca, gtggcat, ...</td>\n",
       "    </tr>\n",
       "    <tr>\n",
       "      <th>4</th>\n",
       "      <td>ATGCAACAGCATTTTGAATTTGAATACCAGACCAAAGTGGATGGTG...</td>\n",
       "      <td>3</td>\n",
       "      <td>[atgcaac, tgcaaca, gcaacag, caacagc, aacagca, ...</td>\n",
       "    </tr>\n",
       "    <tr>\n",
       "      <th>...</th>\n",
       "      <td>...</td>\n",
       "      <td>...</td>\n",
       "      <td>...</td>\n",
       "    </tr>\n",
       "    <tr>\n",
       "      <th>4375</th>\n",
       "      <td>ATGGAAGATTTGGAGGAAACATTATTTGAAGAATTTGAAAACTATT...</td>\n",
       "      <td>0</td>\n",
       "      <td>[atggaag, tggaaga, ggaagat, gaagatt, aagattt, ...</td>\n",
       "    </tr>\n",
       "    <tr>\n",
       "      <th>4376</th>\n",
       "      <td>ATGCAGTCCTTTCGGGAGCAAAGCAGTTACCACGGAAACCAGCAAA...</td>\n",
       "      <td>6</td>\n",
       "      <td>[atgcagt, tgcagtc, gcagtcc, cagtcct, agtcctt, ...</td>\n",
       "    </tr>\n",
       "    <tr>\n",
       "      <th>4377</th>\n",
       "      <td>ATGCAGTCCTTTCGGGAGCAAAGCAGTTACCACGGAAACCAGCAAA...</td>\n",
       "      <td>6</td>\n",
       "      <td>[atgcagt, tgcagtc, gcagtcc, cagtcct, agtcctt, ...</td>\n",
       "    </tr>\n",
       "    <tr>\n",
       "      <th>4378</th>\n",
       "      <td>ATGGGGCACCTGGTTTGCTGTCTGTGTGGCAAGTGGGCCAGTTACC...</td>\n",
       "      <td>6</td>\n",
       "      <td>[atggggc, tggggca, ggggcac, gggcacc, ggcacct, ...</td>\n",
       "    </tr>\n",
       "    <tr>\n",
       "      <th>4379</th>\n",
       "      <td>ATGCAGTCCTTTCGGGAGCAAAGCAGTTACCACGGAAACCAGCAAA...</td>\n",
       "      <td>6</td>\n",
       "      <td>[atgcagt, tgcagtc, gcagtcc, cagtcct, agtcctt, ...</td>\n",
       "    </tr>\n",
       "  </tbody>\n",
       "</table>\n",
       "<p>4380 rows × 3 columns</p>\n",
       "</div>"
      ],
      "text/plain": [
       "                                               sequence  class  \\\n",
       "0     ATGCCCCAACTAAATACTACCGTATGGCCCACCATAATTACCCCCA...      4   \n",
       "1     ATGAACGAAAATCTGTTCGCTTCATTCATTGCCCCCACAATCCTAG...      4   \n",
       "2     ATGTGTGGCATTTGGGCGCTGTTTGGCAGTGATGATTGCCTTTCTG...      3   \n",
       "3     ATGTGTGGCATTTGGGCGCTGTTTGGCAGTGATGATTGCCTTTCTG...      3   \n",
       "4     ATGCAACAGCATTTTGAATTTGAATACCAGACCAAAGTGGATGGTG...      3   \n",
       "...                                                 ...    ...   \n",
       "4375  ATGGAAGATTTGGAGGAAACATTATTTGAAGAATTTGAAAACTATT...      0   \n",
       "4376  ATGCAGTCCTTTCGGGAGCAAAGCAGTTACCACGGAAACCAGCAAA...      6   \n",
       "4377  ATGCAGTCCTTTCGGGAGCAAAGCAGTTACCACGGAAACCAGCAAA...      6   \n",
       "4378  ATGGGGCACCTGGTTTGCTGTCTGTGTGGCAAGTGGGCCAGTTACC...      6   \n",
       "4379  ATGCAGTCCTTTCGGGAGCAAAGCAGTTACCACGGAAACCAGCAAA...      6   \n",
       "\n",
       "                                                  words  \n",
       "0     [atgcccc, tgcccca, gccccaa, ccccaac, cccaact, ...  \n",
       "1     [atgaacg, tgaacga, gaacgaa, aacgaaa, acgaaaa, ...  \n",
       "2     [atgtgtg, tgtgtgg, gtgtggc, tgtggca, gtggcat, ...  \n",
       "3     [atgtgtg, tgtgtgg, gtgtggc, tgtggca, gtggcat, ...  \n",
       "4     [atgcaac, tgcaaca, gcaacag, caacagc, aacagca, ...  \n",
       "...                                                 ...  \n",
       "4375  [atggaag, tggaaga, ggaagat, gaagatt, aagattt, ...  \n",
       "4376  [atgcagt, tgcagtc, gcagtcc, cagtcct, agtcctt, ...  \n",
       "4377  [atgcagt, tgcagtc, gcagtcc, cagtcct, agtcctt, ...  \n",
       "4378  [atggggc, tggggca, ggggcac, gggcacc, ggcacct, ...  \n",
       "4379  [atgcagt, tgcagtc, gcagtcc, cagtcct, agtcctt, ...  \n",
       "\n",
       "[4380 rows x 3 columns]"
      ]
     },
     "execution_count": 6,
     "metadata": {},
     "output_type": "execute_result"
    }
   ],
   "source": [
    "%%time\n",
    "human_data['words']=human_data['sequence'].apply(lambda x: getKmers(x))\n",
    "human_data"
   ]
  },
  {
   "cell_type": "code",
   "execution_count": 7,
   "id": "4d0b03db",
   "metadata": {},
   "outputs": [],
   "source": [
    "human_data_revised=human_data.drop(columns='sequence',axis=1)"
   ]
  },
  {
   "cell_type": "code",
   "execution_count": 8,
   "id": "2be09ded",
   "metadata": {},
   "outputs": [],
   "source": [
    "human_texts = list(human_data_revised['words'])\n",
    "for item in range(len(human_texts)):\n",
    "    human_texts[item] = ' '.join(human_texts[item])"
   ]
  },
  {
   "cell_type": "code",
   "execution_count": 9,
   "id": "8ff54640",
   "metadata": {},
   "outputs": [
    {
     "data": {
      "text/plain": [
       "array([4, 4, 3, ..., 6, 6, 6])"
      ]
     },
     "execution_count": 9,
     "metadata": {},
     "output_type": "execute_result"
    }
   ],
   "source": [
    "y=human_data_revised['class'].values\n",
    "y"
   ]
  },
  {
   "cell_type": "code",
   "execution_count": 10,
   "id": "0d4a30b2",
   "metadata": {},
   "outputs": [],
   "source": [
    "from sklearn.feature_extraction.text import CountVectorizer\n",
    "cv = CountVectorizer(ngram_range=(4,4))\n",
    "X = cv.fit_transform(human_texts)"
   ]
  },
  {
   "cell_type": "code",
   "execution_count": 11,
   "id": "0a9cc0ee",
   "metadata": {},
   "outputs": [],
   "source": [
    "from sklearn.model_selection import train_test_split\n",
    "X_train,X_test,y_train,y_test=train_test_split(X,y,test_size=0.20,random_state=10)"
   ]
  },
  {
   "cell_type": "code",
   "execution_count": 14,
   "id": "da55ed4b",
   "metadata": {},
   "outputs": [
    {
     "name": "stdout",
     "output_type": "stream",
     "text": [
      "\u001b[33mDEPRECATION: Configuring installation scheme with distutils config files is deprecated and will no longer work in the near future. If you are using a Homebrew or Linuxbrew Python, please see discussion at https://github.com/Homebrew/homebrew-core/issues/76621\u001b[0m\u001b[33m\n",
      "\u001b[0mCollecting xgboost\n",
      "  Using cached xgboost-1.7.1-py3-none-macosx_10_15_x86_64.macosx_11_0_x86_64.macosx_12_0_x86_64.whl (1.8 MB)\n",
      "Requirement already satisfied: scipy in /usr/local/lib/python3.9/site-packages (from xgboost) (1.8.0)\n",
      "Requirement already satisfied: numpy in /usr/local/lib/python3.9/site-packages (from xgboost) (1.22.2)\n",
      "Installing collected packages: xgboost\n",
      "\u001b[33m  DEPRECATION: Configuring installation scheme with distutils config files is deprecated and will no longer work in the near future. If you are using a Homebrew or Linuxbrew Python, please see discussion at https://github.com/Homebrew/homebrew-core/issues/76621\u001b[0m\u001b[33m\n",
      "\u001b[0m\u001b[33mDEPRECATION: Configuring installation scheme with distutils config files is deprecated and will no longer work in the near future. If you are using a Homebrew or Linuxbrew Python, please see discussion at https://github.com/Homebrew/homebrew-core/issues/76621\u001b[0m\u001b[33m\n",
      "\u001b[0mSuccessfully installed xgboost-1.7.1\n",
      "\u001b[33mWARNING: There was an error checking the latest version of pip.\u001b[0m\u001b[33m\n",
      "\u001b[0mNote: you may need to restart the kernel to use updated packages.\n"
     ]
    },
    {
     "data": {
      "text/html": [
       "<style>#sk-container-id-1 {color: black;background-color: white;}#sk-container-id-1 pre{padding: 0;}#sk-container-id-1 div.sk-toggleable {background-color: white;}#sk-container-id-1 label.sk-toggleable__label {cursor: pointer;display: block;width: 100%;margin-bottom: 0;padding: 0.3em;box-sizing: border-box;text-align: center;}#sk-container-id-1 label.sk-toggleable__label-arrow:before {content: \"▸\";float: left;margin-right: 0.25em;color: #696969;}#sk-container-id-1 label.sk-toggleable__label-arrow:hover:before {color: black;}#sk-container-id-1 div.sk-estimator:hover label.sk-toggleable__label-arrow:before {color: black;}#sk-container-id-1 div.sk-toggleable__content {max-height: 0;max-width: 0;overflow: hidden;text-align: left;background-color: #f0f8ff;}#sk-container-id-1 div.sk-toggleable__content pre {margin: 0.2em;color: black;border-radius: 0.25em;background-color: #f0f8ff;}#sk-container-id-1 input.sk-toggleable__control:checked~div.sk-toggleable__content {max-height: 200px;max-width: 100%;overflow: auto;}#sk-container-id-1 input.sk-toggleable__control:checked~label.sk-toggleable__label-arrow:before {content: \"▾\";}#sk-container-id-1 div.sk-estimator input.sk-toggleable__control:checked~label.sk-toggleable__label {background-color: #d4ebff;}#sk-container-id-1 div.sk-label input.sk-toggleable__control:checked~label.sk-toggleable__label {background-color: #d4ebff;}#sk-container-id-1 input.sk-hidden--visually {border: 0;clip: rect(1px 1px 1px 1px);clip: rect(1px, 1px, 1px, 1px);height: 1px;margin: -1px;overflow: hidden;padding: 0;position: absolute;width: 1px;}#sk-container-id-1 div.sk-estimator {font-family: monospace;background-color: #f0f8ff;border: 1px dotted black;border-radius: 0.25em;box-sizing: border-box;margin-bottom: 0.5em;}#sk-container-id-1 div.sk-estimator:hover {background-color: #d4ebff;}#sk-container-id-1 div.sk-parallel-item::after {content: \"\";width: 100%;border-bottom: 1px solid gray;flex-grow: 1;}#sk-container-id-1 div.sk-label:hover label.sk-toggleable__label {background-color: #d4ebff;}#sk-container-id-1 div.sk-serial::before {content: \"\";position: absolute;border-left: 1px solid gray;box-sizing: border-box;top: 0;bottom: 0;left: 50%;z-index: 0;}#sk-container-id-1 div.sk-serial {display: flex;flex-direction: column;align-items: center;background-color: white;padding-right: 0.2em;padding-left: 0.2em;position: relative;}#sk-container-id-1 div.sk-item {position: relative;z-index: 1;}#sk-container-id-1 div.sk-parallel {display: flex;align-items: stretch;justify-content: center;background-color: white;position: relative;}#sk-container-id-1 div.sk-item::before, #sk-container-id-1 div.sk-parallel-item::before {content: \"\";position: absolute;border-left: 1px solid gray;box-sizing: border-box;top: 0;bottom: 0;left: 50%;z-index: -1;}#sk-container-id-1 div.sk-parallel-item {display: flex;flex-direction: column;z-index: 1;position: relative;background-color: white;}#sk-container-id-1 div.sk-parallel-item:first-child::after {align-self: flex-end;width: 50%;}#sk-container-id-1 div.sk-parallel-item:last-child::after {align-self: flex-start;width: 50%;}#sk-container-id-1 div.sk-parallel-item:only-child::after {width: 0;}#sk-container-id-1 div.sk-dashed-wrapped {border: 1px dashed gray;margin: 0 0.4em 0.5em 0.4em;box-sizing: border-box;padding-bottom: 0.4em;background-color: white;}#sk-container-id-1 div.sk-label label {font-family: monospace;font-weight: bold;display: inline-block;line-height: 1.2em;}#sk-container-id-1 div.sk-label-container {text-align: center;}#sk-container-id-1 div.sk-container {/* jupyter's `normalize.less` sets `[hidden] { display: none; }` but bootstrap.min.css set `[hidden] { display: none !important; }` so we also need the `!important` here to be able to override the default hidden behavior on the sphinx rendered scikit-learn.org. See: https://github.com/scikit-learn/scikit-learn/issues/21755 */display: inline-block !important;position: relative;}#sk-container-id-1 div.sk-text-repr-fallback {display: none;}</style><div id=\"sk-container-id-1\" class=\"sk-top-container\"><div class=\"sk-text-repr-fallback\"><pre>XGBClassifier(base_score=0.5, booster=&#x27;gbtree&#x27;, callbacks=None,\n",
       "              colsample_bylevel=1, colsample_bynode=1, colsample_bytree=1,\n",
       "              early_stopping_rounds=None, enable_categorical=False,\n",
       "              eval_metric=None, feature_types=None, gamma=0, gpu_id=-1,\n",
       "              grow_policy=&#x27;depthwise&#x27;, importance_type=None,\n",
       "              interaction_constraints=&#x27;&#x27;, learning_rate=0.300000012,\n",
       "              max_bin=256, max_cat_threshold=64, max_cat_to_onehot=4,\n",
       "              max_delta_step=0, max_depth=6, max_leaves=0, min_child_weight=1,\n",
       "              missing=nan, monotone_constraints=&#x27;()&#x27;, n_estimators=100,\n",
       "              n_jobs=0, num_parallel_tree=1, objective=&#x27;multi:softprob&#x27;,\n",
       "              predictor=&#x27;auto&#x27;, ...)</pre><b>In a Jupyter environment, please rerun this cell to show the HTML representation or trust the notebook. <br />On GitHub, the HTML representation is unable to render, please try loading this page with nbviewer.org.</b></div><div class=\"sk-container\" hidden><div class=\"sk-item\"><div class=\"sk-estimator sk-toggleable\"><input class=\"sk-toggleable__control sk-hidden--visually\" id=\"sk-estimator-id-1\" type=\"checkbox\" checked><label for=\"sk-estimator-id-1\" class=\"sk-toggleable__label sk-toggleable__label-arrow\">XGBClassifier</label><div class=\"sk-toggleable__content\"><pre>XGBClassifier(base_score=0.5, booster=&#x27;gbtree&#x27;, callbacks=None,\n",
       "              colsample_bylevel=1, colsample_bynode=1, colsample_bytree=1,\n",
       "              early_stopping_rounds=None, enable_categorical=False,\n",
       "              eval_metric=None, feature_types=None, gamma=0, gpu_id=-1,\n",
       "              grow_policy=&#x27;depthwise&#x27;, importance_type=None,\n",
       "              interaction_constraints=&#x27;&#x27;, learning_rate=0.300000012,\n",
       "              max_bin=256, max_cat_threshold=64, max_cat_to_onehot=4,\n",
       "              max_delta_step=0, max_depth=6, max_leaves=0, min_child_weight=1,\n",
       "              missing=nan, monotone_constraints=&#x27;()&#x27;, n_estimators=100,\n",
       "              n_jobs=0, num_parallel_tree=1, objective=&#x27;multi:softprob&#x27;,\n",
       "              predictor=&#x27;auto&#x27;, ...)</pre></div></div></div></div></div>"
      ],
      "text/plain": [
       "XGBClassifier(base_score=0.5, booster='gbtree', callbacks=None,\n",
       "              colsample_bylevel=1, colsample_bynode=1, colsample_bytree=1,\n",
       "              early_stopping_rounds=None, enable_categorical=False,\n",
       "              eval_metric=None, feature_types=None, gamma=0, gpu_id=-1,\n",
       "              grow_policy='depthwise', importance_type=None,\n",
       "              interaction_constraints='', learning_rate=0.300000012,\n",
       "              max_bin=256, max_cat_threshold=64, max_cat_to_onehot=4,\n",
       "              max_delta_step=0, max_depth=6, max_leaves=0, min_child_weight=1,\n",
       "              missing=nan, monotone_constraints='()', n_estimators=100,\n",
       "              n_jobs=0, num_parallel_tree=1, objective='multi:softprob',\n",
       "              predictor='auto', ...)"
      ]
     },
     "execution_count": 14,
     "metadata": {},
     "output_type": "execute_result"
    }
   ],
   "source": [
    "%pip install xgboost\n",
    "from xgboost import XGBClassifier\n",
    "xgb=XGBClassifier()\n",
    "xgb.fit(X_train,y_train)"
   ]
  },
  {
   "cell_type": "code",
   "execution_count": 15,
   "id": "96a1657e",
   "metadata": {},
   "outputs": [
    {
     "data": {
      "text/plain": [
       "array([6, 1, 4, 3, 2, 6, 3, 4, 0, 1, 3, 0, 6, 6, 4, 3, 1, 1, 4, 2, 6, 3,\n",
       "       0, 6, 6, 5, 0, 6, 6, 0, 1, 6, 1, 5, 6, 3, 3, 4, 4, 1, 2, 6, 5, 6,\n",
       "       6, 4, 4, 3, 4, 0, 6, 1, 3, 6, 1, 4, 6, 4, 0, 6, 6, 4, 6, 0, 6, 0,\n",
       "       1, 6, 6, 6, 2, 3, 4, 6, 4, 2, 4, 1, 6, 6, 0, 6, 6, 6, 3, 5, 6, 2,\n",
       "       6, 4, 1, 3, 6, 1, 6, 6, 6, 0, 4, 6, 6, 3, 0, 2, 6, 6, 4, 2, 6, 0,\n",
       "       1, 6, 6, 6, 0, 6, 6, 0, 6, 6, 2, 3, 6, 2, 4, 6, 2, 5, 4, 6, 6, 1,\n",
       "       1, 6, 3, 4, 0, 3, 4, 3, 6, 6, 6, 6, 6, 6, 6, 6, 1, 2, 3, 1, 3, 5,\n",
       "       6, 6, 2, 6, 6, 6, 6, 4, 6, 6, 3, 6, 2, 5, 2, 4, 0, 6, 6, 4, 6, 6,\n",
       "       1, 0, 6, 2, 6, 1, 6, 3, 6, 6, 1, 6, 1, 2, 1, 0, 0, 3, 4, 0, 6, 6,\n",
       "       6, 3, 6, 5, 6, 6, 3, 4, 6, 3, 4, 4, 6, 6, 0, 6, 1, 1, 6, 5, 6, 3,\n",
       "       4, 1, 6, 6, 4, 2, 0, 6, 4, 0, 6, 0, 1, 6, 4, 3, 3, 0, 3, 5, 1, 2,\n",
       "       4, 6, 6, 0, 0, 4, 6, 6, 4, 2, 3, 1, 1, 6, 3, 6, 1, 6, 3, 0, 6, 2,\n",
       "       1, 2, 1, 6, 5, 6, 4, 6, 1, 2, 4, 6, 6, 6, 6, 0, 4, 6, 1, 4, 6, 3,\n",
       "       6, 2, 3, 6, 0, 4, 1, 6, 1, 4, 6, 4, 5, 2, 5, 6, 0, 6, 6, 6, 6, 4,\n",
       "       6, 3, 6, 4, 1, 3, 4, 3, 1, 4, 6, 4, 3, 3, 1, 2, 6, 6, 2, 3, 3, 3,\n",
       "       4, 4, 6, 1, 4, 1, 4, 4, 4, 4, 0, 1, 2, 6, 6, 0, 4, 0, 6, 6, 6, 3,\n",
       "       6, 2, 6, 0, 6, 6, 4, 3, 0, 3, 6, 6, 5, 6, 3, 0, 1, 1, 3, 6, 6, 5,\n",
       "       6, 3, 3, 6, 4, 6, 1, 4, 0, 4, 6, 6, 2, 6, 6, 4, 0, 4, 6, 6, 4, 6,\n",
       "       0, 2, 4, 3, 6, 2, 6, 4, 3, 6, 1, 3, 6, 3, 0, 1, 6, 6, 6, 6, 6, 6,\n",
       "       3, 6, 6, 6, 4, 6, 6, 1, 3, 6, 4, 4, 0, 6, 4, 2, 6, 4, 6, 6, 6, 6,\n",
       "       0, 5, 0, 6, 0, 4, 6, 4, 0, 3, 2, 6, 4, 3, 3, 0, 4, 4, 4, 6, 4, 0,\n",
       "       2, 0, 1, 0, 6, 6, 3, 3, 6, 6, 6, 6, 6, 0, 6, 1, 0, 4, 3, 1, 0, 6,\n",
       "       1, 6, 6, 6, 0, 4, 1, 2, 4, 0, 1, 2, 6, 6, 6, 4, 6, 1, 3, 3, 4, 1,\n",
       "       6, 4, 2, 3, 6, 1, 6, 6, 6, 0, 4, 3, 4, 3, 0, 6, 1, 6, 2, 6, 3, 6,\n",
       "       1, 6, 0, 5, 3, 4, 6, 3, 4, 0, 6, 6, 2, 6, 6, 6, 3, 6, 5, 0, 1, 6,\n",
       "       3, 6, 6, 6, 6, 2, 6, 6, 2, 6, 6, 4, 6, 1, 1, 5, 4, 5, 0, 1, 2, 6,\n",
       "       2, 6, 3, 2, 2, 6, 4, 1, 2, 3, 5, 6, 6, 1, 6, 6, 5, 6, 4, 6, 2, 6,\n",
       "       1, 6, 4, 6, 4, 4, 2, 6, 6, 6, 4, 6, 6, 6, 4, 6, 0, 5, 6, 4, 4, 6,\n",
       "       4, 3, 3, 2, 5, 6, 4, 4, 6, 2, 3, 6, 2, 0, 1, 3, 6, 6, 4, 4, 6, 5,\n",
       "       2, 4, 6, 5, 0, 3, 0, 1, 6, 1, 6, 1, 6, 2, 6, 1, 6, 6, 1, 6, 4, 6,\n",
       "       3, 6, 0, 0, 1, 6, 6, 3, 2, 1, 6, 6, 4, 2, 0, 3, 5, 3, 1, 6, 6, 6,\n",
       "       2, 2, 4, 1, 6, 3, 6, 6, 4, 6, 4, 3, 6, 4, 3, 6, 4, 6, 2, 1, 6, 6,\n",
       "       2, 3, 1, 3, 6, 0, 4, 0, 4, 6, 6, 2, 1, 6, 3, 5, 1, 4, 6, 3, 6, 1,\n",
       "       5, 5, 5, 6, 6, 1, 1, 6, 2, 6, 3, 6, 6, 4, 6, 1, 3, 6, 1, 6, 6, 1,\n",
       "       4, 2, 1, 0, 6, 6, 4, 3, 6, 6, 4, 6, 0, 6, 6, 4, 6, 4, 2, 3, 3, 6,\n",
       "       6, 1, 3, 0, 4, 3, 3, 6, 6, 0, 1, 6, 3, 4, 6, 6, 3, 0, 6, 6, 6, 6,\n",
       "       6, 6, 6, 4, 6, 3, 1, 6, 6, 6, 4, 4, 3, 6, 6, 4, 6, 3, 4, 6, 3, 3,\n",
       "       6, 3, 4, 6, 6, 1, 1, 6, 3, 1, 6, 0, 6, 6, 1, 3, 1, 6, 6, 3, 4, 6,\n",
       "       3, 0, 3, 0, 1, 6, 6, 2, 6, 0, 4, 4, 0, 4, 6, 6, 1, 6, 4, 3, 1, 6,\n",
       "       6, 6, 0, 1, 1, 1, 2, 3, 1, 3, 0, 1, 4, 6, 6, 1, 6, 0])"
      ]
     },
     "execution_count": 15,
     "metadata": {},
     "output_type": "execute_result"
    }
   ],
   "source": [
    "y_pred=xgb.predict(X_test)\n",
    "y_pred"
   ]
  },
  {
   "cell_type": "code",
   "execution_count": 16,
   "id": "fefc0c21",
   "metadata": {},
   "outputs": [
    {
     "data": {
      "text/plain": [
       "0.8835616438356164"
      ]
     },
     "execution_count": 16,
     "metadata": {},
     "output_type": "execute_result"
    }
   ],
   "source": [
    "from sklearn.metrics import accuracy_score,classification_report,confusion_matrix\n",
    "accuracy_score(y_test,y_pred)"
   ]
  },
  {
   "cell_type": "code",
   "execution_count": 17,
   "id": "69d0c40c",
   "metadata": {},
   "outputs": [
    {
     "name": "stdout",
     "output_type": "stream",
     "text": [
      "              precision    recall  f1-score   support\n",
      "\n",
      "           0       1.00      0.85      0.92        99\n",
      "           1       1.00      0.85      0.92       123\n",
      "           2       0.98      0.90      0.94        72\n",
      "           3       0.96      0.86      0.91       127\n",
      "           4       0.94      0.81      0.87       156\n",
      "           5       1.00      0.76      0.86        41\n",
      "           6       0.74      0.98      0.85       258\n",
      "\n",
      "    accuracy                           0.88       876\n",
      "   macro avg       0.95      0.86      0.89       876\n",
      "weighted avg       0.91      0.88      0.89       876\n",
      "\n"
     ]
    }
   ],
   "source": [
    "print(classification_report(y_test,y_pred))\n"
   ]
  },
  {
   "cell_type": "code",
   "execution_count": 19,
   "id": "554777fc",
   "metadata": {},
   "outputs": [
    {
     "data": {
      "image/png": "[encoded data removed]",
      "text/plain": [
       "<Figure size 720x576 with 2 Axes>"
      ]
     },
     "metadata": {
      "needs_background": "light"
     },
     "output_type": "display_data"
    }
   ],
   "source": [
    "import matplotlib.pyplot as plt\n",
    "import seaborn as sns\n",
    "plt.figure(figsize=(10,8))\n",
    "sns.heatmap(confusion_matrix(y_test,y_pred),annot=True,cmap='viridis')\n",
    "plt.show()\n"
   ]
  },
  {
   "cell_type": "code",
   "execution_count": null,
   "id": "ea0f4fc7",
   "metadata": {},
   "outputs": [],
   "source": []
  }
 ],
 "metadata": {
  "kernelspec": {
   "display_name": "Python 3 (ipykernel)",
   "language": "python",
   "name": "python3"
  },
  "language_info": {
   "codemirror_mode": {
    "name": "ipython",
    "version": 3
   },
   "file_extension": ".py",
   "mimetype": "text/x-python",
   "name": "python",
   "nbconvert_exporter": "python",
   "pygments_lexer": "ipython3",
   "version": "3.9.13"
  },
  "toc": {
   "base_numbering": 1,
   "nav_menu": {},
   "number_sections": true,
   "sideBar": true,
   "skip_h1_title": false,
   "title_cell": "Table of Contents",
   "title_sidebar": "Contents",
   "toc_cell": false,
   "toc_position": {},
   "toc_section_display": true,
   "toc_window_display": false
  }
 },
 "nbformat": 4,
 "nbformat_minor": 5
}
